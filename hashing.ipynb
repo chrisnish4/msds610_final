{
 "cells": [
  {
   "cell_type": "code",
   "execution_count": 3,
   "metadata": {},
   "outputs": [],
   "source": [
    "import hashlib, re, time"
   ]
  },
  {
   "cell_type": "markdown",
   "metadata": {},
   "source": [
    "<h2> READ THE NAMES AND SECTION INFO FROM CANVAS </h2>"
   ]
  },
  {
   "cell_type": "markdown",
   "metadata": {},
   "source": [
    "<div>\n",
    "<img src=\"names.png\" width=\"1000\"/>\n",
    "</div>"
   ]
  },
  {
   "cell_type": "code",
   "execution_count": 4,
   "metadata": {},
   "outputs": [],
   "source": [
    "with open('input.txt') as fp:\n",
    "    data = fp.readlines()\n",
    "\n",
    "dct = {}\n",
    "for item in data:\n",
    "    if item.split(\"\\t\")[0] not in dct and \"\\t\" in item:\n",
    "        item = re.sub(r'\\([^)]*\\)', '', item)\n",
    "        name = item.split(\"\\t\")[0]\n",
    "        dct[name] = []\n",
    "    elif \"MSDS\" in item:\n",
    "        dct[name].append(int(item.strip().split('-')[-1]))"
   ]
  },
  {
   "cell_type": "code",
   "execution_count": 5,
   "metadata": {},
   "outputs": [],
   "source": [
    "# with open(\"hashes.txt\", \"w\") as fp:\n",
    "#     for key in dct:\n",
    "#         fp.write(hashlib.sha256(key.encode()).hexdigest() + \" \" + key+ \"\\n\")"
   ]
  },
  {
   "cell_type": "markdown",
   "metadata": {},
   "source": [
    "<h2> CREATE A FUNCTION TO GET THE HASH VALUE </h2>"
   ]
  },
  {
   "cell_type": "code",
   "execution_count": 6,
   "metadata": {},
   "outputs": [],
   "source": [
    "def check_hash(filename, lst):\n",
    "    with open(filename, \"r\") as fp:\n",
    "        hashes = fp.readlines()\n",
    "    hashes = [item.strip() for item in hashes]\n",
    "\n",
    "    for value in lst:\n",
    "        for hash in hashes:\n",
    "            if hash.split()[0] == value:\n",
    "                time.sleep(1)\n",
    "                print(value + \" --> \" + \" \".join(hash.split()[1:]))"
   ]
  },
  {
   "cell_type": "code",
   "execution_count": 7,
   "metadata": {},
   "outputs": [
    {
     "data": {
      "text/plain": [
       "['d5eb8088a5de2a2c7c866e9837104648e836fae9e3eff070e14bb1d215d0ddfe',\n",
       " 'b42250c5c57f937e5dd710f875b30a4e7e4c08a736a9b69cc2eea7c89af5a0ce',\n",
       " 'b3cf6301d3bc446f98ffd58a288d78e4fc9024ba8a3531c28664b51caff4f423']"
      ]
     },
     "execution_count": 7,
     "metadata": {},
     "output_type": "execute_result"
    }
   ],
   "source": [
    "hash_val = ['d5eb8088a5de2a2c7c866e9837104648e836fae9e3eff070e14bb1d215d0ddfe',\n",
    "            'b42250c5c57f937e5dd710f875b30a4e7e4c08a736a9b69cc2eea7c89af5a0ce',\n",
    "            'b3cf6301d3bc446f98ffd58a288d78e4fc9024ba8a3531c28664b51caff4f423']\n",
    "hash_val"
   ]
  },
  {
   "cell_type": "code",
   "execution_count": 8,
   "metadata": {},
   "outputs": [
    {
     "name": "stdout",
     "output_type": "stream",
     "text": [
      "d5eb8088a5de2a2c7c866e9837104648e836fae9e3eff070e14bb1d215d0ddfe --> Chris Nishimura\n",
      "b42250c5c57f937e5dd710f875b30a4e7e4c08a736a9b69cc2eea7c89af5a0ce --> Sai Vamsi Pujari\n",
      "b3cf6301d3bc446f98ffd58a288d78e4fc9024ba8a3531c28664b51caff4f423 --> Tri Cao\n"
     ]
    }
   ],
   "source": [
    "check_hash(\"hashes.txt\", hash_val)"
   ]
  },
  {
   "cell_type": "markdown",
   "metadata": {},
   "source": [
    "<h2> Create a list of hashcodes for each person in our Class section </h2>"
   ]
  },
  {
   "cell_type": "code",
   "execution_count": 9,
   "metadata": {},
   "outputs": [
    {
     "data": {
      "text/plain": [
       "['d5c8601e241f64da007657eebde9ab135213566a275a924fe2f8cf2e0d5e7785',\n",
       " '19b97ce2fbcd16d4b9273fb064da85817ddd041db1dd8754d9924e34db24a434',\n",
       " '69fe8700fffbc840ba6df20c3e2d06bb6c037130ac8da1cb15f9ef33ee26f02e',\n",
       " 'b3cf6301d3bc446f98ffd58a288d78e4fc9024ba8a3531c28664b51caff4f423',\n",
       " '922f6afd37630b4457ca82e128d8fc0c642da0eab738da0788c20f53f8e49a62',\n",
       " '211357d4691b1d2daabfebee47d9b68cfc75fea21f1748d770d782bab349989a',\n",
       " '4d81c6ebf68cb8f54401b07c91bcdbfea74d55c8c33d3a3a296c1dde22bdcba2',\n",
       " '60b6f61f37ed8455d85cb8cd5c24ddb48ce08f28580a70b87c92a2ac7348c9f1',\n",
       " 'c2a33d8d9bb6e74fbcc68f13254621bddf0e26f98817798a2ce0777db4b309f1',\n",
       " '17b611e6326c2b0c0453349a8fccbca6e37d92348668cd023f2da43f6799e340',\n",
       " '847f203df59c98aa96f035d3369e1f87651ad0b39b6300fa50b7606e904d8fa6',\n",
       " '10f7f20716cb60917d05467f0bf6757bbbb5c89a1078c96e1523c8d3ebe64844',\n",
       " 'a67cf09ee2c02bf76e37560e96d0626481f71f79d3d282370f744ffbcf6a571c',\n",
       " '4ae99b71de5eaeeb67fffbf92e89f5ff0628231c7bc8cd6fb2a45067485406f6',\n",
       " 'e4a98d0057ea0c4866bb5a4a851b4e2677040debccdc417e6401f30b865972bd',\n",
       " 'd5eb8088a5de2a2c7c866e9837104648e836fae9e3eff070e14bb1d215d0ddfe',\n",
       " 'c23b0ee9ed3e3aacfad34e20f35e476ccea84f4ae73907ce40fd66894ea31f39',\n",
       " '8f3c7d9f9c711cc5f29ff6b1a577fd015e0de77fd6bdad506fd450e1315ba3b5',\n",
       " 'b42250c5c57f937e5dd710f875b30a4e7e4c08a736a9b69cc2eea7c89af5a0ce',\n",
       " '094b876e9956570164248a71374675c69ce9c3cb00ad30d6efced3dad99a3f0d',\n",
       " '22b959a72bbe603c94694358e56e26d128d559c39fea6b32baf2986aa18137a3',\n",
       " '5fb1725d87313ccde0ca500b261871cc0e6c31dc620d49ced1e3e4f4763036be',\n",
       " '29816d77c6b22781783e298c8ee6a0a57516e5eac706c8096d2578d3f206ded1']"
      ]
     },
     "execution_count": 9,
     "metadata": {},
     "output_type": "execute_result"
    }
   ],
   "source": [
    "def section_dct(name_dct, section):\n",
    "    section_dct = {}\n",
    "    for key, value in name_dct.items():\n",
    "        if section in value:\n",
    "            section_dct[key] = hashlib.sha256(key.encode()).hexdigest()\n",
    "    return section_dct\n",
    "\n",
    "section3 = section_dct(dct, 3)\n",
    "list(section3.values())"
   ]
  },
  {
   "cell_type": "markdown",
   "metadata": {},
   "source": [
    "<h2> See if there is a match and return the value </h2>"
   ]
  },
  {
   "cell_type": "code",
   "execution_count": 10,
   "metadata": {},
   "outputs": [
    {
     "name": "stdout",
     "output_type": "stream",
     "text": [
      "d5c8601e241f64da007657eebde9ab135213566a275a924fe2f8cf2e0d5e7785 --> Solomon Asiedu-Ofei\n",
      "19b97ce2fbcd16d4b9273fb064da85817ddd041db1dd8754d9924e34db24a434 --> Sai Pranavi Avadhanam\n",
      "69fe8700fffbc840ba6df20c3e2d06bb6c037130ac8da1cb15f9ef33ee26f02e --> Samuel Campione\n",
      "b3cf6301d3bc446f98ffd58a288d78e4fc9024ba8a3531c28664b51caff4f423 --> Tri Cao\n",
      "922f6afd37630b4457ca82e128d8fc0c642da0eab738da0788c20f53f8e49a62 --> Jeffrey Chen\n",
      "211357d4691b1d2daabfebee47d9b68cfc75fea21f1748d770d782bab349989a --> Robert Clements\n",
      "4d81c6ebf68cb8f54401b07c91bcdbfea74d55c8c33d3a3a296c1dde22bdcba2 --> Yen-Hsin Fang\n",
      "60b6f61f37ed8455d85cb8cd5c24ddb48ce08f28580a70b87c92a2ac7348c9f1 --> Nithin Kumar\n",
      "c2a33d8d9bb6e74fbcc68f13254621bddf0e26f98817798a2ce0777db4b309f1 --> Mark Lam\n",
      "17b611e6326c2b0c0453349a8fccbca6e37d92348668cd023f2da43f6799e340 --> Nick Miller\n",
      "847f203df59c98aa96f035d3369e1f87651ad0b39b6300fa50b7606e904d8fa6 --> Rishi Mohan\n",
      "10f7f20716cb60917d05467f0bf6757bbbb5c89a1078c96e1523c8d3ebe64844 --> Ranjeet Nagarkar\n",
      "a67cf09ee2c02bf76e37560e96d0626481f71f79d3d282370f744ffbcf6a571c --> Aditya Nair\n",
      "4ae99b71de5eaeeb67fffbf92e89f5ff0628231c7bc8cd6fb2a45067485406f6 --> Manas Nambiar\n",
      "e4a98d0057ea0c4866bb5a4a851b4e2677040debccdc417e6401f30b865972bd --> Kabir Nawani\n",
      "d5eb8088a5de2a2c7c866e9837104648e836fae9e3eff070e14bb1d215d0ddfe --> Chris Nishimura\n",
      "c23b0ee9ed3e3aacfad34e20f35e476ccea84f4ae73907ce40fd66894ea31f39 --> Rashmi Panse\n",
      "8f3c7d9f9c711cc5f29ff6b1a577fd015e0de77fd6bdad506fd450e1315ba3b5 --> Ajayeswar Reddy Peddyreddy\n",
      "b42250c5c57f937e5dd710f875b30a4e7e4c08a736a9b69cc2eea7c89af5a0ce --> Sai Vamsi Pujari\n",
      "094b876e9956570164248a71374675c69ce9c3cb00ad30d6efced3dad99a3f0d --> Andrea Quiroz\n",
      "22b959a72bbe603c94694358e56e26d128d559c39fea6b32baf2986aa18137a3 --> Bhumika Srinivas\n",
      "5fb1725d87313ccde0ca500b261871cc0e6c31dc620d49ced1e3e4f4763036be --> Ho Nam Tong\n",
      "29816d77c6b22781783e298c8ee6a0a57516e5eac706c8096d2578d3f206ded1 --> Yi-Fang Tsai\n"
     ]
    }
   ],
   "source": [
    "check_hash(\"hashes.txt\", section3.values())"
   ]
  },
  {
   "cell_type": "markdown",
   "metadata": {},
   "source": [
    "<h2> This is especially important for password breaches </h2>"
   ]
  },
  {
   "cell_type": "code",
   "execution_count": 13,
   "metadata": {},
   "outputs": [
    {
     "data": {
      "text/plain": [
       "{'robertc@usfca.edu': '4007d46292298e83da10d0763d95d5139fe0c157148d0587aa912170414ccba6',\n",
       " 'diane@usfca.edu': '5dd46878bb0b580b3086cfd1091b7bf6204c7bd521f6ac371226367241c3ab53',\n",
       " 'President@USA.gov': '4404f5b7a8836863b4bf63b9958024b6fc9074f0f0480ed8115e4168760e505e',\n",
       " 'elonmusk@mars.com': '954c7a1f84096998e6df172544976b0f8357d9d545c0f5ffa0d7ca839ee8a383',\n",
       " 'snoop_dogg@rap.net': '7a2551f897f10a3a5a041243af9e0cf5b37bbd82c3c0b24cb3513b21f88b042c'}"
      ]
     },
     "execution_count": 13,
     "metadata": {},
     "output_type": "execute_result"
    }
   ],
   "source": [
    "leaked_info = {'robertc@usfca.edu': '4007d46292298e83da10d0763d95d5139fe0c157148d0587aa912170414ccba6',\n",
    "                'diane@usfca.edu': '5dd46878bb0b580b3086cfd1091b7bf6204c7bd521f6ac371226367241c3ab53',\n",
    "                'President@USA.gov': '4404f5b7a8836863b4bf63b9958024b6fc9074f0f0480ed8115e4168760e505e',\n",
    "                'elonmusk@mars.com': '954c7a1f84096998e6df172544976b0f8357d9d545c0f5ffa0d7ca839ee8a383',\n",
    "                'snoop_dogg@rap.net': '7a2551f897f10a3a5a041243af9e0cf5b37bbd82c3c0b24cb3513b21f88b042c'}\n",
    "leaked_info"
   ]
  },
  {
   "cell_type": "code",
   "execution_count": 14,
   "metadata": {},
   "outputs": [
    {
     "name": "stdout",
     "output_type": "stream",
     "text": [
      "4007d46292298e83da10d0763d95d5139fe0c157148d0587aa912170414ccba6 --> robert\n",
      "5dd46878bb0b580b3086cfd1091b7bf6204c7bd521f6ac371226367241c3ab53 --> timber\n",
      "4404f5b7a8836863b4bf63b9958024b6fc9074f0f0480ed8115e4168760e505e --> badass\n",
      "954c7a1f84096998e6df172544976b0f8357d9d545c0f5ffa0d7ca839ee8a383 --> srinivas\n",
      "7a2551f897f10a3a5a041243af9e0cf5b37bbd82c3c0b24cb3513b21f88b042c --> weed420\n"
     ]
    }
   ],
   "source": [
    "check_hash(\"common_passwords.txt\", leaked_info.values())"
   ]
  },
  {
   "cell_type": "markdown",
   "metadata": {},
   "source": [
    "<h2> So Now We Know How to Psudo-Decode Passwords </h2>\n",
    "<p> * If we know the hash, we may be able to find the password if it's common\n",
    "<p>* It becomes extra important to use a unique password for every site"
   ]
  }
 ],
 "metadata": {
  "kernelspec": {
   "display_name": "base",
   "language": "python",
   "name": "python3"
  },
  "language_info": {
   "codemirror_mode": {
    "name": "ipython",
    "version": 3
   },
   "file_extension": ".py",
   "mimetype": "text/x-python",
   "name": "python",
   "nbconvert_exporter": "python",
   "pygments_lexer": "ipython3",
   "version": "3.11.0"
  }
 },
 "nbformat": 4,
 "nbformat_minor": 2
}
